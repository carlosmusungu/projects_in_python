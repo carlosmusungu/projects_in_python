{
 "cells": [
  {
   "cell_type": "code",
   "execution_count": 6,
   "metadata": {},
   "outputs": [],
   "source": [
    "import google.generativeai as genai\n",
    "from IPython.display import HTML, Markdown, display"
   ]
  },
  {
   "cell_type": "code",
   "execution_count": 3,
   "metadata": {},
   "outputs": [],
   "source": [
    "genai.configure(api_key='API HERE')\n",
    "\n"
   ]
  },
  {
   "cell_type": "code",
   "execution_count": 4,
   "metadata": {},
   "outputs": [],
   "source": [
    "flash = genai.GenerativeModel('gemini-1.5-flash')"
   ]
  },
  {
   "cell_type": "code",
   "execution_count": 20,
   "metadata": {},
   "outputs": [],
   "source": [
    "response = flash.generate_content(\"Im feeling pain in my joints, headache, stomach ache. what problem could I be having\")\n"
   ]
  },
  {
   "cell_type": "code",
   "execution_count": 21,
   "metadata": {},
   "outputs": [],
   "source": [
    "rep = response.text"
   ]
  },
  {
   "cell_type": "code",
   "execution_count": 22,
   "metadata": {},
   "outputs": [
    {
     "data": {
      "text/markdown": [
       "Experiencing joint pain, headache, and stomach ache simultaneously could be caused by a number of things, ranging from relatively minor issues to more serious conditions.  It's impossible to diagnose your condition online.  **You should see a doctor or other healthcare professional as soon as possible.**\n",
       "\n",
       "Some possibilities, but not an exhaustive list, include:\n",
       "\n",
       "* **The flu or another viral infection:** These often present with a combination of aches, pains, and gastrointestinal symptoms.\n",
       "* **Food poisoning:**  This can cause stomach aches, headaches, and sometimes body aches.\n",
       "* **Food allergies or intolerances:**  While less likely to cause joint pain, severe reactions can trigger a range of symptoms.\n",
       "* **Autoimmune diseases:** Conditions like lupus or rheumatoid arthritis can cause widespread pain and inflammation.\n",
       "* **Infections:**  More serious infections can cause systemic symptoms, affecting multiple organ systems.\n",
       "* **Stress:**  Stress can manifest physically in various ways, including headaches and stomach issues.  While less likely to directly cause joint pain, it can exacerbate existing conditions.\n",
       "\n",
       "\n",
       "**Do not attempt to self-diagnose.** The symptoms you describe are too general to pinpoint a specific cause.  A healthcare provider can perform a proper examination, order tests (like blood work) if necessary, and provide an accurate diagnosis and appropriate treatment.  Delaying medical attention could potentially worsen your condition.\n"
      ],
      "text/plain": [
       "<IPython.core.display.Markdown object>"
      ]
     },
     "execution_count": 22,
     "metadata": {},
     "output_type": "execute_result"
    }
   ],
   "source": [
    "Markdown(rep)"
   ]
  }
 ],
 "metadata": {
  "kernelspec": {
   "display_name": "Python 3",
   "language": "python",
   "name": "python3"
  },
  "language_info": {
   "codemirror_mode": {
    "name": "ipython",
    "version": 3
   },
   "file_extension": ".py",
   "mimetype": "text/x-python",
   "name": "python",
   "nbconvert_exporter": "python",
   "pygments_lexer": "ipython3",
   "version": "3.11.9"
  }
 },
 "nbformat": 4,
 "nbformat_minor": 2
}
